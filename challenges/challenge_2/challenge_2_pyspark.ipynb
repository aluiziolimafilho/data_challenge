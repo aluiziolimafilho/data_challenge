{
 "cells": [
  {
   "cell_type": "code",
   "execution_count": 1,
   "id": "7292b2a9",
   "metadata": {},
   "outputs": [
    {
     "name": "stderr",
     "output_type": "stream",
     "text": [
      "Setting default log level to \"WARN\".\n",
      "To adjust logging level use sc.setLogLevel(newLevel). For SparkR, use setLogLevel(newLevel).\n",
      "25/07/03 19:13:31 WARN NativeCodeLoader: Unable to load native-hadoop library for your platform... using builtin-java classes where applicable\n"
     ]
    }
   ],
   "source": [
    "from pyspark.sql import SparkSession\n",
    "\n",
    "spark = SparkSession.builder.appName(\"Challenge\").getOrCreate()"
   ]
  },
  {
   "cell_type": "code",
   "execution_count": 2,
   "id": "679defbb",
   "metadata": {},
   "outputs": [
    {
     "name": "stdout",
     "output_type": "stream",
     "text": [
      "+---+---------+--------+-----+\n",
      "| id|     name|category|price|\n",
      "+---+---------+--------+-----+\n",
      "|  1|Product_1|   Pants|92.55|\n",
      "|  2|Product_2|  Shirts|43.11|\n",
      "|  3|Product_3| Jackets|59.02|\n",
      "|  4|Product_4|   Shoes|49.65|\n",
      "|  5|Product_5|   Pants|44.59|\n",
      "+---+---------+--------+-----+\n",
      "only showing top 5 rows\n",
      "\n"
     ]
    }
   ],
   "source": [
    "products_df = spark.read.csv(\"../../data/products.csv\", header=True)\n",
    "\n",
    "products_df.show(5)"
   ]
  },
  {
   "cell_type": "code",
   "execution_count": 3,
   "id": "15ba339b",
   "metadata": {},
   "outputs": [
    {
     "name": "stdout",
     "output_type": "stream",
     "text": [
      "+--------+----------+--------+------------+\n",
      "|order_id|product_id|quantity|created_date|\n",
      "+--------+----------+--------+------------+\n",
      "|       1|        11|       1|'2024-12-01'|\n",
      "|       2|        17|       2|'2024-12-01'|\n",
      "|       3|        19|       1|'2024-12-01'|\n",
      "|       4|        12|       1|'2024-12-01'|\n",
      "|       5|        11|       2|'2024-12-01'|\n",
      "+--------+----------+--------+------------+\n",
      "only showing top 5 rows\n",
      "\n"
     ]
    }
   ],
   "source": [
    "orders_df = spark.read.csv(\"../../data/orders.csv\", header=True).withColumnRenamed(\"id\", \"order_id\")\n",
    "\n",
    "# Show the DataFrame\n",
    "orders_df.show(5)"
   ]
  },
  {
   "cell_type": "code",
   "execution_count": 4,
   "id": "ec78265b",
   "metadata": {},
   "outputs": [
    {
     "name": "stdout",
     "output_type": "stream",
     "text": [
      "+--------+----------+--------+------------+---+----------+--------+-----+\n",
      "|order_id|product_id|quantity|created_date| id|      name|category|price|\n",
      "+--------+----------+--------+------------+---+----------+--------+-----+\n",
      "|       1|        11|       1|'2024-12-01'| 11|Product_11| Dresses|69.06|\n",
      "|       2|        17|       2|'2024-12-01'| 17|Product_17|  Shirts|98.51|\n",
      "|       3|        19|       1|'2024-12-01'| 19|Product_19|  Shirts|51.94|\n",
      "|       4|        12|       1|'2024-12-01'| 12|Product_12| Jackets|50.99|\n",
      "|       5|        11|       2|'2024-12-01'| 11|Product_11| Dresses|69.06|\n",
      "+--------+----------+--------+------------+---+----------+--------+-----+\n",
      "only showing top 5 rows\n",
      "\n"
     ]
    }
   ],
   "source": [
    "data_df = orders_df.join(products_df, orders_df.product_id == products_df.id, \"left\")\n",
    "data_df.show(5)"
   ]
  },
  {
   "cell_type": "code",
   "execution_count": 5,
   "id": "de228e5b",
   "metadata": {},
   "outputs": [
    {
     "name": "stdout",
     "output_type": "stream",
     "text": [
      "+--------+----------+--------+------------+---+----------+--------+-----+--------------+\n",
      "|order_id|product_id|quantity|created_date| id|      name|category|price|total_price_br|\n",
      "+--------+----------+--------+------------+---+----------+--------+-----+--------------+\n",
      "|       1|        11|       1|'2024-12-01'| 11|Product_11| Dresses|69.06|         69.06|\n",
      "|       2|        17|       2|'2024-12-01'| 17|Product_17|  Shirts|98.51|        197.02|\n",
      "|       3|        19|       1|'2024-12-01'| 19|Product_19|  Shirts|51.94|         51.94|\n",
      "|       4|        12|       1|'2024-12-01'| 12|Product_12| Jackets|50.99|         50.99|\n",
      "|       5|        11|       2|'2024-12-01'| 11|Product_11| Dresses|69.06|        138.12|\n",
      "+--------+----------+--------+------------+---+----------+--------+-----+--------------+\n",
      "only showing top 5 rows\n",
      "\n"
     ]
    }
   ],
   "source": [
    "data_df = data_df.withColumn(\"total_price_br\", data_df.quantity * data_df.price)\n",
    "data_df.show(5)"
   ]
  },
  {
   "cell_type": "code",
   "execution_count": 6,
   "id": "483fc684",
   "metadata": {},
   "outputs": [
    {
     "name": "stdout",
     "output_type": "stream",
     "text": [
      "+--------+----------+--------+------------------+---+------------+--------+-----+--------------+\n",
      "|order_id|product_id|quantity|order_created_date| id|product_name|category|price|total_price_br|\n",
      "+--------+----------+--------+------------------+---+------------+--------+-----+--------------+\n",
      "|       1|        11|       1|      '2024-12-01'| 11|  Product_11| Dresses|69.06|         69.06|\n",
      "|       2|        17|       2|      '2024-12-01'| 17|  Product_17|  Shirts|98.51|        197.02|\n",
      "|       3|        19|       1|      '2024-12-01'| 19|  Product_19|  Shirts|51.94|         51.94|\n",
      "|       4|        12|       1|      '2024-12-01'| 12|  Product_12| Jackets|50.99|         50.99|\n",
      "|       5|        11|       2|      '2024-12-01'| 11|  Product_11| Dresses|69.06|        138.12|\n",
      "+--------+----------+--------+------------------+---+------------+--------+-----+--------------+\n",
      "only showing top 5 rows\n",
      "\n"
     ]
    }
   ],
   "source": [
    "data_df = data_df.withColumnRenamed(\"created_date\",\"order_created_date\")\n",
    "data_df = data_df.withColumnRenamed(\"name\",\"product_name\")\n",
    "data_df.show(5)"
   ]
  },
  {
   "cell_type": "code",
   "execution_count": 7,
   "id": "7ba3703e",
   "metadata": {},
   "outputs": [
    {
     "data": {
      "text/plain": [
       "0.1842916856"
      ]
     },
     "execution_count": 7,
     "metadata": {},
     "output_type": "execute_result"
    }
   ],
   "source": [
    "import requests as req\n",
    "import os\n",
    "API_URL = \"https://api.freecurrencyapi.com/v1/latest?currencies=USD&base_currency=BRL\"\n",
    "API_KEY = os.environ.get(\"API_KEY\")\n",
    "\n",
    "response = req.get(API_URL,headers={\"apikey\": API_KEY})\n",
    "response.raise_for_status()\n",
    "data = response.json()\n",
    "usd_convert = data[\"data\"][\"USD\"]\n",
    "usd_convert"
   ]
  },
  {
   "cell_type": "code",
   "execution_count": 8,
   "id": "630a3a01",
   "metadata": {},
   "outputs": [
    {
     "name": "stdout",
     "output_type": "stream",
     "text": [
      "+--------+----------+--------+------------------+---+------------+--------+-----+--------------+-----------------+\n",
      "|order_id|product_id|quantity|order_created_date| id|product_name|category|price|total_price_br|   total_price_us|\n",
      "+--------+----------+--------+------------------+---+------------+--------+-----+--------------+-----------------+\n",
      "|       1|        11|       1|      '2024-12-01'| 11|  Product_11| Dresses|69.06|         69.06|  12.727183807536|\n",
      "|       2|        17|       2|      '2024-12-01'| 17|  Product_17|  Shirts|98.51|        197.02|  36.309147896912|\n",
      "|       3|        19|       1|      '2024-12-01'| 19|  Product_19|  Shirts|51.94|         51.94|   9.572110150064|\n",
      "|       4|        12|       1|      '2024-12-01'| 12|  Product_12| Jackets|50.99|         50.99|9.397033048744001|\n",
      "|       5|        11|       2|      '2024-12-01'| 11|  Product_11| Dresses|69.06|        138.12|  25.454367615072|\n",
      "+--------+----------+--------+------------------+---+------------+--------+-----+--------------+-----------------+\n",
      "only showing top 5 rows\n",
      "\n"
     ]
    }
   ],
   "source": [
    "from pyspark.sql.functions import lit\n",
    "data_df = data_df.withColumn(\"total_price_us\", data_df.total_price_br * lit(usd_convert))\n",
    "data_df.show(5)"
   ]
  },
  {
   "cell_type": "code",
   "execution_count": 9,
   "id": "16354013",
   "metadata": {},
   "outputs": [],
   "source": [
    "data_df.select(\n",
    "    \"order_created_date\",\n",
    "    \"order_id\",\n",
    "    \"product_name\",\n",
    "    \"quantity\",\n",
    "    \"total_price_br\",\n",
    "    \"total_price_us\"\n",
    ").write.csv(\"fixed_order_full_information.csv\", header=True)"
   ]
  },
  {
   "cell_type": "code",
   "execution_count": 10,
   "id": "f44cb531",
   "metadata": {},
   "outputs": [
    {
     "name": "stdout",
     "output_type": "stream",
     "text": [
      "+------------------+\n",
      "|order_created_date|\n",
      "+------------------+\n",
      "|      '2024-12-06'|\n",
      "+------------------+\n",
      "\n"
     ]
    }
   ],
   "source": [
    "from pyspark.sql.functions import max\n",
    "df_mao = data_df.groupBy(\"order_created_date\").count()\n",
    "max_df_mao = df_mao.select(max(\"count\").alias(\"count\"))\n",
    "date_max_amount_orders = df_mao.join(max_df_mao,\n",
    "    df_mao[\"count\"] == max_df_mao[\"count\"], \"inner\"\n",
    ").select(\"order_created_date\")\n",
    "\n",
    "date_max_amount_orders.show()"
   ]
  },
  {
   "cell_type": "code",
   "execution_count": 11,
   "id": "7ed6afcb",
   "metadata": {},
   "outputs": [
    {
     "name": "stdout",
     "output_type": "stream",
     "text": [
      "+----------+------+\n",
      "|product_id| price|\n",
      "+----------+------+\n",
      "|         5|356.72|\n",
      "+----------+------+\n",
      "\n"
     ]
    }
   ],
   "source": [
    "from pyspark.sql.functions import sum\n",
    "df_group_p = data_df.groupBy(\"product_id\").agg(\n",
    "    sum(\"quantity\").alias(\"quantity\"),\n",
    "    sum(\"price\").alias(\"price\")\n",
    ")\n",
    "\n",
    "max_df_group_p = df_group_p.select(max(\"quantity\").alias(\"quantity\"))\n",
    "most_demanded_product = df_group_p.join(max_df_group_p,\n",
    "    df_group_p[\"quantity\"] == max_df_group_p[\"quantity\"], \"inner\"\n",
    ")\n",
    "\n",
    "most_demanded_product = most_demanded_product.select(\"product_id\",\"price\")\n",
    "most_demanded_product.show()\n"
   ]
  },
  {
   "cell_type": "code",
   "execution_count": 12,
   "id": "99a7a4d6",
   "metadata": {},
   "outputs": [
    {
     "name": "stdout",
     "output_type": "stream",
     "text": [
      "+--------------------+\n",
      "|            category|\n",
      "+--------------------+\n",
      "|Shirts,Jackets,Pants|\n",
      "+--------------------+\n",
      "\n"
     ]
    }
   ],
   "source": [
    "from pyspark.sql.functions import sum, col, collect_list, concat_ws\n",
    "most_demanded_categories = data_df.groupBy(\"category\").agg(\n",
    "    sum(\"quantity\").alias(\"quantity\")\n",
    ").orderBy(col(\"quantity\").desc()).select(\"category\").limit(3).select(\n",
    "    concat_ws(\",\", collect_list(\"category\")).alias(\"category\")\n",
    ")\n",
    "\n",
    "most_demanded_categories.show()"
   ]
  },
  {
   "cell_type": "code",
   "execution_count": 14,
   "id": "fa6ec863",
   "metadata": {},
   "outputs": [
    {
     "name": "stdout",
     "output_type": "stream",
     "text": [
      "+------------------+----------+------+--------------------+\n",
      "|order_created_date|product_id| price|            category|\n",
      "+------------------+----------+------+--------------------+\n",
      "|      '2024-12-06'|         5|356.72|Shirts,Jackets,Pants|\n",
      "+------------------+----------+------+--------------------+\n",
      "\n"
     ]
    }
   ],
   "source": [
    "date_max_amount_orders.join(\n",
    "    most_demanded_product\n",
    ").join(\n",
    "    most_demanded_categories\n",
    ").show()"
   ]
  }
 ],
 "metadata": {
  "kernelspec": {
   "display_name": ".venv",
   "language": "python",
   "name": "python3"
  },
  "language_info": {
   "codemirror_mode": {
    "name": "ipython",
    "version": 3
   },
   "file_extension": ".py",
   "mimetype": "text/x-python",
   "name": "python",
   "nbconvert_exporter": "python",
   "pygments_lexer": "ipython3",
   "version": "3.10.15"
  }
 },
 "nbformat": 4,
 "nbformat_minor": 5
}
